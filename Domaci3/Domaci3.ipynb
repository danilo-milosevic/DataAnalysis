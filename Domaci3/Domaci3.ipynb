{
    "cells": [
        {
            "cell_type": "markdown",
            "metadata": {},
            "source": [
                "# Import"
            ]
        },
        {
            "cell_type": "code",
            "execution_count": null,
            "metadata": {},
            "outputs": [],
            "source": [
                "%pip install seaborn scikit-learn scipy"
            ]
        },
        {
            "cell_type": "code",
            "execution_count": null,
            "metadata": {},
            "outputs": [],
            "source": [
                "import os\n",
                "from sklearn.experimental import enable_halving_search_cv\n",
                "import seaborn as sns\n",
                "import numpy as np\n",
                "import pandas as pd\n",
                "import matplotlib.pyplot as plt\n",
                "from sklearn.preprocessing import PowerTransformer, MinMaxScaler\n",
                "from sklearn.model_selection import train_test_split, HalvingRandomSearchCV\n",
                "from sklearn.ensemble import RandomForestClassifier, AdaBoostClassifier, HistGradientBoostingClassifier, GradientBoostingClassifier, ExtraTreesClassifier\n",
                "from sklearn.tree import DecisionTreeClassifier\n",
                "\n",
                "from sklearn.decomposition import PCA\n",
                "from sklearn.manifold import Isomap\n",
                "from sklearn.preprocessing import LabelEncoder\n",
                "\n",
                "from sklearn.metrics import (roc_auc_score, f1_score, log_loss, precision_score, \n",
                "                             recall_score, confusion_matrix, RocCurveDisplay, make_scorer, roc_curve)\n",
                "from sklearn.preprocessing import OneHotEncoder\n",
                "\n",
                "import matplotlib.pyplot as plt\n",
                "import seaborn as sns\n",
                "\n",
                "sns.set_style(\"darkgrid\")"
            ]
        },
        {
            "cell_type": "markdown",
            "metadata": {},
            "source": [
                "# Load/Split"
            ]
        },
        {
            "cell_type": "markdown",
            "metadata": {},
            "source": [
                "Skup podataka: https://archive.ics.uci.edu/dataset/374/appliances+energy+prediction"
            ]
        },
        {
            "cell_type": "code",
            "execution_count": null,
            "metadata": {},
            "outputs": [],
            "source": [
                "file_path = './dataset.csv'\n",
                "df = pd.read_csv(file_path, sep=',')"
            ]
        },
        {
            "cell_type": "markdown",
            "metadata": {},
            "source": [
                "# Priprema i analiza podataka"
            ]
        },
        {
            "cell_type": "markdown",
            "metadata": {},
            "source": [
                "## Opis podataka"
            ]
        },
        {
            "cell_type": "markdown",
            "metadata": {},
            "source": [
                "- $id$\n",
                "- $track\\_id$ - jedinstveni id pesme\n",
                "- $artists$ - izvođači, razdvojeni ';'\n",
                "- $album\\_name$ - ime albuma\n",
                "- $track\\_namet$ - ime pesme\n",
                "- $popularity$ - vrednost od 0 do 100, bazirana na tome koliko često je pesma puštana na Spotify-u u skorije vreme\n",
                "- $duration\\_ms$ - trajanje pesme u ms\n",
                "- $explicit$ - da li pesma sadrži eksplicitan tekst\n",
                "- $danceability$ - koliko je pesma \"plesljiva\" - od 0 do 1\n",
                "- $energy$ - koliko je pesma energična (0 do 1), određena na osnovu više odlika pesme (brzina, koliko je pesma glasna...)\n",
                "- $key$ - u kojoj lestvici je pesma\n",
                "- $loudness$ - koliko je pesma glasna u dB\n",
                "- $mode$ - da li je dur ili mol lestvica (1 - dur, 0 - mol)\n",
                "- $speechiness$ - koliko je zastupljen tekst u pesmi - 0 do 1\n",
                "- $acousticness$ - verovatnoća da je pesma akustična - 0 do 1\n",
                "- $instrumentalness$ - verovatnoća da je pesma instrumental - 0 do 1, 1 označava veliku verovatnoću da nema vokala u pesmi\n",
                "- $liveness$ - verovatnoća da je pesma izvedena u javnosti (koncert) - 0 do 1\n",
                "- $valence$ - koliko je pesma vesela - 1 predstavlja srećne pesme dok 0 su tužnije pesme\n",
                "- $tempo$ - brzina pesme u bitovima po minutu\n",
                "- $time\\_signature$ - ritam, takt\n",
                "- $track\\_genre$ - žanr pesme, ciljni atribut"
            ]
        },
        {
            "cell_type": "code",
            "execution_count": null,
            "metadata": {},
            "outputs": [],
            "source": [
                "print(f\"Broj ulaza u skupu podataka: {len(df)}\")"
            ]
        },
        {
            "cell_type": "code",
            "execution_count": null,
            "metadata": {},
            "outputs": [],
            "source": [
                "print(f\"Broj ulaznih promenljivih u skupu podataka: {len(df.iloc[0])}\")"
            ]
        },
        {
            "cell_type": "markdown",
            "metadata": {},
            "source": [
                "- Ukupno imamo <span style=\"color:#03d3fc\">20 ulazne promenljive</span> i <span style=\"color:#fc036f\">1 ciljnu promenljivu</span>\n",
                "- Ukupno imamo <span style=\"color:#03d3fc\">114000 ulaza u skupu podataka</span>\n",
                "- Koristimo 80-20 podelu za trening i test skup"
            ]
        },
        {
            "cell_type": "code",
            "execution_count": null,
            "metadata": {},
            "outputs": [],
            "source": [
                "df.info()"
            ]
        },
        {
            "cell_type": "markdown",
            "metadata": {},
            "source": [
                "- Nema nedostajućih vrednosti u skupu\n",
                "- $track\\_id$, $artists$, $album\\_name$, $track\\_name$, $track\\_genre$ su object"
            ]
        },
        {
            "cell_type": "markdown",
            "metadata": {},
            "source": [
                "## Obrada atributa"
            ]
        },
        {
            "cell_type": "markdown",
            "metadata": {},
            "source": [
                "$track\\_id$ atribut možemo da izbacimo kao i $Unnamed: 0$ koji predstavljaju samo identifikatore"
            ]
        },
        {
            "cell_type": "code",
            "execution_count": null,
            "metadata": {},
            "outputs": [],
            "source": [
                "df.drop(labels=['track_id','Unnamed: 0'],inplace=True, axis=1)"
            ]
        },
        {
            "cell_type": "markdown",
            "metadata": {},
            "source": [
                "$artists$ atribut analiziramo"
            ]
        },
        {
            "cell_type": "code",
            "execution_count": null,
            "metadata": {},
            "outputs": [],
            "source": [
                "report = {\n",
                "    'maximum_artists_on_single_track': 0,\\\n",
                "    'unique_artist_count':0,\n",
                "    'longest_artist_list':'',\n",
                "    'missing_artists_index':[]\n",
                "}\n",
                "artists= df['artists'].str.split(';')\n",
                "unique_artists = []\n",
                "for i,artist_list in enumerate(artists):\n",
                "    try:\n",
                "        if len(artist_list) > report['maximum_artists_on_single_track']:\n",
                "            report['maximum_artists_on_single_track'] = len(artist_list)\n",
                "            report['longest_artist_list'] = artist_list\n",
                "\n",
                "        report['maximum_artists_on_single_track'] = max(report['maximum_artists_on_single_track'], len(artist_list))\n",
                "        for artist in artist_list:\n",
                "            if artist in unique_artists: continue\n",
                "            unique_artists.append(artist)\n",
                "    except:\n",
                "        report['missing_artists_index'].append(i)\n",
                "report['unique_artist_count'] = len(unique_artists)"
            ]
        },
        {
            "cell_type": "code",
            "execution_count": null,
            "metadata": {},
            "outputs": [],
            "source": [
                "report"
            ]
        },
        {
            "cell_type": "markdown",
            "metadata": {},
            "source": [
                "- Pesma sa najviše izvođača ima 38 izvođača\n",
                "- Postoji pesma bez ijednog izvođača - pesma sa indeksom 65900, koju izbacujemo\n",
                "- Postoje 29859 jedinstvenih izvođača\n",
                "- Moramo da zamenimo atribut artists nekim drugim atributom\n",
                "    - Jedan izbor je da zamenimo brojem izvođača, pesme sa velikim brojem izvođača su najverovatnije retkost\n",
                "    - Drugi izbor je da zamenimo sa indeksima izvođača, međutim to zahteva 38 dodatnih atributa u najgorem slučaju, a takođe bi loše funkcionisalo sa pojavom novih izvođača\n",
                "    "
            ]
        },
        {
            "cell_type": "code",
            "execution_count": null,
            "metadata": {},
            "outputs": [],
            "source": [
                "print('Before: ', len(df))\n",
                "df.drop(labels=report['missing_artists_index'], inplace=True, axis=0)\n",
                "print('After: ', len(df))"
            ]
        },
        {
            "cell_type": "code",
            "execution_count": null,
            "metadata": {},
            "outputs": [],
            "source": [
                "df['artists'] = df['artists'].str.split(';')\n",
                "df['artists'] = df['artists'].apply(len)"
            ]
        },
        {
            "cell_type": "code",
            "execution_count": null,
            "metadata": {},
            "outputs": [],
            "source": [
                "df.describe()"
            ]
        },
        {
            "cell_type": "markdown",
            "metadata": {},
            "source": [
                "- Kao što smo pretpostavili, većina pesama ima samo 1 izvođača, prosek je 1.388 izvođača po pesmi"
            ]
        },
        {
            "cell_type": "markdown",
            "metadata": {},
            "source": [
                "Atribute $track\\_name$ i $album\\_name$ možemo takođe da zamenimo dužinom imena"
            ]
        },
        {
            "cell_type": "code",
            "execution_count": null,
            "metadata": {},
            "outputs": [],
            "source": [
                "df['track_name'] = df['track_name'].apply(len)\n",
                "df['album_name'] = df['album_name'].apply(len)"
            ]
        },
        {
            "cell_type": "markdown",
            "metadata": {},
            "source": [
                "Na kraju trebamo još da enkodiramo atribut za žanr"
            ]
        },
        {
            "cell_type": "code",
            "execution_count": null,
            "metadata": {},
            "outputs": [],
            "source": [
                "label_encoder = LabelEncoder()\n",
                "\n",
                "df['track_genre'] = label_encoder.fit_transform(df['track_genre'])"
            ]
        },
        {
            "cell_type": "code",
            "execution_count": null,
            "metadata": {},
            "outputs": [],
            "source": [
                "df['explicit'] = df['explicit'].apply(int)"
            ]
        },
        {
            "cell_type": "code",
            "execution_count": null,
            "metadata": {},
            "outputs": [],
            "source": [
                "df.info()"
            ]
        },
        {
            "cell_type": "code",
            "execution_count": null,
            "metadata": {},
            "outputs": [],
            "source": [
                "train, test = train_test_split(df, test_size=0.2, random_state=42)"
            ]
        },
        {
            "cell_type": "markdown",
            "metadata": {},
            "source": [
                "## Raspodele podataka"
            ]
        },
        {
            "cell_type": "code",
            "execution_count": null,
            "metadata": {},
            "outputs": [],
            "source": [
                "def visualize_attribute(train: pd.DataFrame, attribute: str) -> None:\n",
                "    plt.figure(facecolor='darkblue')\n",
                "    color = np.random.rand(3,)\n",
                "    _, axes = plt.subplots(2, 2, figsize=(12, 10))\n",
                "    \n",
                "    sns.histplot(data=train, x=attribute, kde=False, ax=axes[0, 0], color=color)\n",
                "    axes[0, 0].set_title('Histogram')\n",
                "    \n",
                "    sns.boxplot(data=train, x=attribute, ax=axes[0, 1], color=color)\n",
                "    axes[0, 1].set_title('Boxplot')\n",
                "    \n",
                "    sns.violinplot(data=train, x=attribute, ax=axes[1, 0], color=color)\n",
                "    axes[1, 0].set_title('Violin Plot')\n",
                "    \n",
                "    sns.scatterplot(data=train, x=attribute, y='track_genre', ax=axes[1, 1], color=color, alpha=0.2)\n",
                "    axes[1, 1].set_title('Scatter Plot')\n",
                "    \n",
                "    plt.show()\n",
                "\n",
                "attributes = list(train.keys())\n",
                "for attribute in attributes:\n",
                "    visualize_attribute(train, attribute)"
            ]
        },
        {
            "cell_type": "markdown",
            "metadata": {},
            "source": [
                "**Prvi zaključci**\n",
                "- Pesme sa većem brojem izvođača uglavnom pripadaju žanrovima sa višim indeksom\n",
                "- Takođe pesme sa dužim imenima albuma češće pripadaju žanrovima sa višim indeksom\n",
                "- Pesme trajanja iznad 2*10e6 ms su retke ali zastupljene među svim žanrovima\n",
                "- Pesme sa više teksta obično pripadaju žanrovima sa indeksom oko 20\n",
                "- Pesme sa sporijim ritmom su retke, zastupljene u svim žanrovima ali najviše kod žanrova sa višim indeksom"
            ]
        },
        {
            "cell_type": "markdown",
            "metadata": {},
            "source": [
                "## Normalizacija atributa"
            ]
        },
        {
            "cell_type": "code",
            "execution_count": null,
            "metadata": {},
            "outputs": [],
            "source": [
                "def transform_skewed_attributes(train, transf_map:dict = {}, skew_threshold=0.1):\n",
                "    transformer = PowerTransformer(method='yeo-johnson')\n",
                "    train_cp = train.copy()\n",
                "    for column in train_cp.columns:\n",
                "        if train_cp[column].dtype in [np.float64, np.int64]:\n",
                "            skewness = train_cp[column].skew()\n",
                "            if abs(skewness) > skew_threshold:\n",
                "                transformer = PowerTransformer(method='yeo-johnson')\n",
                "                transformer = transformer.fit(train_cp[[column]])\n",
                "                train_cp[column] = transformer.transform(train_cp[[column]])\n",
                "                if column in transf_map.keys():\n",
                "                    transf_map[column].append(transformer)\n",
                "                else:\n",
                "                    transf_map[column] = [transformer]\n",
                "\n",
                "    return train_cp\n",
                "\n",
                "def scale(train, transf_map:dict = {}):\n",
                "    train_cp = train.copy()\n",
                "    for column in train.columns:\n",
                "        if train_cp[column].dtype in [np.float64, np.int64]:\n",
                "            scaler = MinMaxScaler(feature_range=(-1, 1))\n",
                "            scaler = scaler.fit(train_cp[[column]])\n",
                "            train_cp[column] = scaler.transform(train_cp[[column]])\n",
                "            if column in transf_map.keys():\n",
                "                    transf_map[column].append(scaler)\n",
                "            else:\n",
                "                transf_map[column] = [scaler]\n",
                "    return train_cp\n",
                "\n",
                "def apply_transf(X, transf_map:dict):\n",
                "    result = X.copy()\n",
                "    for attribute in transf_map.keys():\n",
                "        for tr in transf_map[attribute]:\n",
                "            result[attribute] = tr.transform(result[[attribute]])\n",
                "    return result"
            ]
        },
        {
            "cell_type": "markdown",
            "metadata": {},
            "source": [
                "# Preliminarni trening"
            ]
        },
        {
            "cell_type": "markdown",
            "metadata": {},
            "source": [
                "- TODO:\n",
                "    - Funkcija koja primi podatke i labele i niz test primera\n",
                "        - Test primer ima jedno polje koje sadrzi niz transformacija, jedno polje koji algoritam koristi i jedno polje za tuning\n",
                "        - Ubaci rezultate u dataframe - auc, roc, f1, log_loss, prec, recall\n",
                "        - Vizuelizuje - matrica konfuzije, feature importance dijagram, AUC/ROC\n",
                "        - Vraća istrenirani model\n",
                "    - Primeni funkciju za:\n",
                "        - Za svaku od transforms stavki tune-uj razne algoritme nad njima sa halvigGrid ili halvingRandom"
            ]
        },
        {
            "cell_type": "code",
            "execution_count": null,
            "metadata": {},
            "outputs": [],
            "source": [
                "def train_test_model(X, y, model, param_grid, result_df, tag=None):\n",
                "    # Ensure y is a 1D array of class labels\n",
                "    y = y.values.ravel()  # Flatten y to be a 1D array\n",
                "    \n",
                "    # Define the custom scorer for multi-class ROC AUC\n",
                "    custom_scorer = make_scorer(roc_auc_score, needs_proba=True, multi_class='ovr')\n",
                "    f1_scorer = make_scorer(f1_score, average='macro')\n",
                "\n",
                "\n",
                "    # Perform hyperparameter tuning using HalvingGridSearchCV\n",
                "    halving_search = HalvingRandomSearchCV(model, param_grid, scoring=f1_scorer, n_jobs=-1, cv=3, verbose=0, n_candidates=80)\n",
                "    halving_search.fit(X, y)\n",
                "    \n",
                "    # Get the best model\n",
                "    best_model = halving_search.best_estimator_\n",
                "    \n",
                "    # Predict on the entire dataset\n",
                "    y_pred = best_model.predict(X)\n",
                "    \n",
                "    # Calculate evaluation metrics\n",
                "    # For ROC AUC, it requires probabilities\n",
                "    if hasattr(best_model, 'predict_proba'):\n",
                "        y_pred_prob = best_model.predict_proba(X)\n",
                "        auc = roc_auc_score(y, y_pred_prob, multi_class='ovr')\n",
                "    else:\n",
                "        auc = np.nan\n",
                "    \n",
                "    f1 = f1_score(y, y_pred, average='macro')\n",
                "    precision = precision_score(y, y_pred, average='macro')\n",
                "    recall = recall_score(y, y_pred, average='macro')\n",
                "\n",
                "    \n",
                "    # Print results\n",
                "    print(f\"Model: {type(model).__name__}\")\n",
                "    print(f\"AUC: {auc:.4f}\")\n",
                "    print(f\"F1: {f1:.4f}\")\n",
                "    print(f\"Precision: {precision:.4f}\")\n",
                "    print(f\"Recall: {recall:.4f}\")\n",
                "    print(f\"Best Params: {halving_search.best_params_}\")\n",
                "    \n",
                "    # Store results in the results dataframe\n",
                "    tag = \"_\" + tag if tag is not None else \"\"\n",
                "    results = pd.DataFrame([{\n",
                "        'Model': type(model).__name__ + tag,\n",
                "        'AUC': auc,\n",
                "        'F1': f1,\n",
                "        'Precision': precision,\n",
                "        'Recall': recall,\n",
                "        'Best Params': halving_search.best_params_\n",
                "    }])\n",
                "    result_df = pd.concat([result_df, results], ignore_index=True)\n",
                "    \n",
                "    # Visualizing the results\n",
                "    \n",
                "    # Confusion matrix\n",
                "    cm = confusion_matrix(y, y_pred)\n",
                "    plt.figure(figsize=(8, 6))\n",
                "    sns.heatmap(cm, annot=False, fmt='d', cmap='Blues')\n",
                "    plt.title('Confusion Matrix')\n",
                "    plt.ylabel('Actual Values')\n",
                "    plt.xlabel('Predicted Values')\n",
                "    plt.show()\n",
                "    \n",
                "    # Feature importance (if applicable)\n",
                "    if hasattr(best_model, 'feature_importances_'):\n",
                "        importances = best_model.feature_importances_\n",
                "        indices = np.argsort(importances)[::-1]\n",
                "        plt.figure(figsize=(10, 6))\n",
                "        plt.title('Feature Importances')\n",
                "        plt.bar(range(X.shape[1]), importances[indices], color='r', align='center')\n",
                "        if X is pd.DataFrame:\n",
                "            plt.xticks(range(X.shape[1]), X.columns[indices], rotation=90)\n",
                "        else:\n",
                "            plt.xticks(range(X.shape[1]), indices, rotation=90)\n",
                "        plt.xlim([-1, X.shape[1]])\n",
                "        plt.show()\n",
                "    \n",
                "    print(results)\n",
                "    return best_model, result_df\n",
                "\n",
                "def apply_transf_list(data, transforms):\n",
                "    d = data.copy()\n",
                "    for t in transforms:\n",
                "        d = t(d)\n",
                "        if t is PCA:\n",
                "            d = pd.DataFrame(d, columns=[f'PC{i+1}' for i in range(d.shape[1])])\n",
                "    return d\n"
            ]
        },
        {
            "cell_type": "code",
            "execution_count": null,
            "metadata": {},
            "outputs": [],
            "source": [
                "ss = scale\n",
                "norm = transform_skewed_attributes\n",
                "pca = PCA(n_components=0.97)\n",
                "transforms = [('None',[]), ('PCA',[pca.fit_transform])]"
            ]
        },
        {
            "cell_type": "code",
            "execution_count": 26,
            "metadata": {},
            "outputs": [],
            "source": [
                "models = []\n",
                "models.append((RandomForestClassifier, {\n",
                "    'n_estimators': [100, 300, 500],           \n",
                "    'max_depth': [None, 5, 7, 13],                    \n",
                "    'max_features': ['sqrt', 'log2'],\n",
                "    'bootstrap': [True, False]                           \n",
                "}))\n",
                "models.append((AdaBoostClassifier, {\n",
                "    'n_estimators': [50, 100, 150, 200, 250],  \n",
                "    'learning_rate': [0.01, 0.1, 1.0, 1.5, 2.0],  \n",
                "    'estimator': [\n",
                "        DecisionTreeClassifier(max_depth=5),\n",
                "        DecisionTreeClassifier(max_depth=13),\n",
                "        DecisionTreeClassifier(max_depth=None)\n",
                "    ] \n",
                "}))\n",
                "models.append((HistGradientBoostingClassifier, {\n",
                "    'learning_rate': [0.01, 0.05, 0.1, 0.2],         \n",
                "    'max_iter': [100, 200, 300],                     \n",
                "    'max_leaf_nodes': [15, 31, 63],                  \n",
                "    'max_depth': [3, 5, 7],                          \n",
                "    'min_samples_leaf': [10, 20, 30],                \n",
                "    'max_bins': [255, 510],                         \n",
                "    'l2_regularization': [0, 0.1, 1],                \n",
                "    'early_stopping': [True, False]                  \n",
                "}))\n",
                "models.append((ExtraTreesClassifier, {\n",
                "    'n_estimators': [100, 200, 300, 500],\n",
                "    'max_depth': [10, 20, 30],\n",
                "    'min_samples_split': [2, 5, 10],\n",
                "    'min_samples_leaf': [1, 2, 4],\n",
                "    'max_features': ['sqrt', 'log2'],\n",
                "    'bootstrap': [False, True]\n",
                "}))"
            ]
        },
        {
            "cell_type": "code",
            "execution_count": null,
            "metadata": {},
            "outputs": [],
            "source": [
                "y = train['track_genre']\n",
                "train.drop(['track_genre'],inplace=True, axis=1)"
            ]
        },
        {
            "cell_type": "code",
            "execution_count": null,
            "metadata": {},
            "outputs": [],
            "source": [
                "results = pd.DataFrame()\n",
                "best_models = []"
            ]
        },
        {
            "cell_type": "code",
            "execution_count": null,
            "metadata": {},
            "outputs": [],
            "source": [
                "tag, transform_list = transforms[0]\n",
                "model, grid = models[0]\n",
                "m, results = train_test_model(apply_transf_list(train, transform_list), y, model(), grid, results, tag)\n",
                "best_models.append(m)"
            ]
        },
        {
            "cell_type": "code",
            "execution_count": null,
            "metadata": {},
            "outputs": [],
            "source": [
                "tag, transform_list = transforms[1]\n",
                "model, grid = models[0]\n",
                "m, results = train_test_model(apply_transf_list(train, transform_list), y, model(), grid, results, tag)\n",
                "best_models.append(m)"
            ]
        },
        {
            "cell_type": "code",
            "execution_count": null,
            "metadata": {},
            "outputs": [],
            "source": [
                "tag, transform_list = transforms[0]\n",
                "model, grid = models[1]\n",
                "m, results = train_test_model(apply_transf_list(train, transform_list), y, model(), grid, results, tag)\n",
                "best_models.append(m)"
            ]
        },
        {
            "cell_type": "code",
            "execution_count": null,
            "metadata": {},
            "outputs": [],
            "source": [
                "tag, transform_list = transforms[1]\n",
                "model, grid = models[1]\n",
                "m, results = train_test_model(apply_transf_list(train, transform_list), y, model(), grid, results, tag)\n",
                "best_models.append(m)"
            ]
        },
        {
            "cell_type": "code",
            "execution_count": null,
            "metadata": {},
            "outputs": [],
            "source": [
                "tag, transform_list = transforms[0]\n",
                "model, grid = models[2]\n",
                "m, results = train_test_model(apply_transf_list(train, transform_list), y, model(), grid, results, tag)\n",
                "best_models.append(m)"
            ]
        },
        {
            "cell_type": "code",
            "execution_count": null,
            "metadata": {},
            "outputs": [],
            "source": [
                "tag, transform_list = transforms[1]\n",
                "model, grid = models[2]\n",
                "m, results = train_test_model(apply_transf_list(train, transform_list), y, model(), grid, results, tag)\n",
                "best_models.append(m)"
            ]
        },
        {
            "cell_type": "code",
            "execution_count": 27,
            "metadata": {},
            "outputs": [
                {
                    "name": "stderr",
                    "output_type": "stream",
                    "text": [
                        "/Library/Frameworks/Python.framework/Versions/3.12/lib/python3.12/site-packages/sklearn/metrics/_scorer.py:610: FutureWarning: The `needs_threshold` and `needs_proba` parameter are deprecated in version 1.4 and will be removed in 1.6. You can either let `response_method` be `None` or set it to `predict` to preserve the same behaviour.\n",
                        "  warnings.warn(\n",
                        "/Library/Frameworks/Python.framework/Versions/3.12/lib/python3.12/site-packages/joblib/externals/loky/process_executor.py:752: UserWarning: A worker stopped while some jobs were given to the executor. This can be caused by a too short worker timeout or by a memory leak.\n",
                        "  warnings.warn(\n",
                        "/Library/Frameworks/Python.framework/Versions/3.12/lib/python3.12/site-packages/joblib/externals/loky/process_executor.py:752: UserWarning: A worker stopped while some jobs were given to the executor. This can be caused by a too short worker timeout or by a memory leak.\n",
                        "  warnings.warn(\n",
                        "/Library/Frameworks/Python.framework/Versions/3.12/lib/python3.12/site-packages/joblib/externals/loky/process_executor.py:752: UserWarning: A worker stopped while some jobs were given to the executor. This can be caused by a too short worker timeout or by a memory leak.\n",
                        "  warnings.warn(\n"
                    ]
                },
                {
                    "name": "stdout",
                    "output_type": "stream",
                    "text": [
                        "Model: ExtraTreesClassifier\n",
                        "AUC: 0.9985\n",
                        "F1: 0.8157\n",
                        "Precision: 0.8220\n",
                        "Recall: 0.8171\n",
                        "Best Params: {'n_estimators': 500, 'min_samples_split': 2, 'min_samples_leaf': 1, 'max_features': 'log2', 'max_depth': 20, 'bootstrap': False}\n"
                    ]
                },
                {
                    "data": {
                        "image/png": "[encoded data removed]",
                        "text/plain": [
                            "<Figure size 800x600 with 2 Axes>"
                        ]
                    },
                    "metadata": {},
                    "output_type": "display_data"
                },
                {
                    "data": {
                        "image/png": "[encoded data removed]",
                        "text/plain": [
                            "<Figure size 1000x600 with 1 Axes>"
                        ]
                    },
                    "metadata": {},
                    "output_type": "display_data"
                },
                {
                    "name": "stdout",
                    "output_type": "stream",
                    "text": [
                        "                       Model      AUC        F1  Precision    Recall  \\\n",
                        "0  ExtraTreesClassifier_None  0.99846  0.815695   0.822019  0.817074   \n",
                        "\n",
                        "                                         Best Params  \n",
                        "0  {'n_estimators': 500, 'min_samples_split': 2, ...  \n"
                    ]
                }
            ],
            "source": [
                "tag, transform_list = transforms[0]\n",
                "model, grid = models[3]\n",
                "m, results = train_test_model(apply_transf_list(train, transform_list), y, model(), grid, results, tag)\n",
                "best_models.append(m)"
            ]
        },
        {
            "cell_type": "code",
            "execution_count": null,
            "metadata": {},
            "outputs": [],
            "source": [
                "tag, transform_list = transforms[1]\n",
                "model, grid = models[3]\n",
                "m, results = train_test_model(apply_transf_list(train, transform_list), y, model(), grid, results, tag)\n",
                "best_models.append(m)"
            ]
        }
    ],
    "metadata": {
        "kernelspec": {
            "display_name": "Python 3",
            "language": "python",
            "name": "python3"
        },
        "language_info": {
            "codemirror_mode": {
                "name": "ipython",
                "version": 3
            },
            "file_extension": ".py",
            "mimetype": "text/x-python",
            "name": "python",
            "nbconvert_exporter": "python",
            "pygments_lexer": "ipython3",
            "version": "3.12.3"
        }
    },
    "nbformat": 4,
    "nbformat_minor": 2
}
