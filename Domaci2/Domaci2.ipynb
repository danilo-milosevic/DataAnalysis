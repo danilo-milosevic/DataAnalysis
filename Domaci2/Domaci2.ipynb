{
    "cells": [
        {
            "cell_type": "markdown",
            "metadata": {},
            "source": [
                "# Import"
            ]
        },
        {
            "cell_type": "code",
            "execution_count": null,
            "metadata": {},
            "outputs": [],
            "source": [
                "%pip install seaborn scikit-learn scipy"
            ]
        },
        {
            "cell_type": "code",
            "execution_count": null,
            "metadata": {},
            "outputs": [],
            "source": [
                "import os\n",
                "import seaborn as sns\n",
                "import numpy as np\n",
                "import pandas as pd\n",
                "import matplotlib.pyplot as plt\n",
                "from sklearn.preprocessing import PowerTransformer, MinMaxScaler\n",
                "from sklearn.model_selection import train_test_split\n",
                "from sklearn.metrics import silhouette_score, davies_bouldin_score\n",
                "\n",
                "from sklearn.manifold import TSNE, Isomap\n",
                "from sklearn.cluster import KMeans, AgglomerativeClustering\n",
                "from scipy.cluster.hierarchy import linkage, dendrogram\n",
                "\n",
                "from sklearn.decomposition import PCA\n",
                "from sklearn.preprocessing import LabelEncoder\n",
                "\n",
                "\n",
                "sns.set_style(\"darkgrid\")"
            ]
        },
        {
            "cell_type": "markdown",
            "metadata": {},
            "source": [
                "# Load/Split"
            ]
        },
        {
            "cell_type": "markdown",
            "metadata": {},
            "source": [
                "Skup podataka: https://archive.ics.uci.edu/dataset/374/appliances+energy+prediction"
            ]
        },
        {
            "cell_type": "code",
            "execution_count": null,
            "metadata": {},
            "outputs": [],
            "source": [
                "file_path = './ObesityDataSet.csv'\n",
                "df = pd.read_csv(file_path, sep=',')"
            ]
        },
        {
            "cell_type": "markdown",
            "metadata": {},
            "source": [
                "# Priprema i analiza podataka"
            ]
        },
        {
            "cell_type": "markdown",
            "metadata": {},
            "source": [
                "## Opis podataka"
            ]
        },
        {
            "cell_type": "markdown",
            "metadata": {},
            "source": [
                "- $Gender$ - pol\n",
                "- $Age$ - starost\n",
                "- $Height$ - visina\n",
                "- $Weight$ - kilaža\n",
                "- $family\\_history\\_with\\_overweight$ - da li su članovi porodice gojazni (yes-no)\n",
                "- $FAVC$ - čest unos visoko kalorične hrane\n",
                "- $FCVC$ - učestalost unosa povrća\n",
                "- $NCP$ - broj glavnih jela\n",
                "- $CAEC$ - unos hrane između obroka - 4 jedinstvene vrednosti\n",
                "- $SMOKE$ - pušač (da-ne)\n",
                "- $CH2O$ - unos vode u toku dana\n",
                "- $SCC$ - da li vode računa o unosu kalorija (da-ne)\n",
                "- $FAF$ - učestalost fizičke aktivnosti\n",
                "- $TUE$ - vreme korišćenja tehnologije\n",
                "- $CALC$ - unos alkohola - 4 jedinstvene vrednosti\n",
                "- $MTRANS$ - korišćenje prevoznih sredstava - 5 jedinstvene vrednosti\n",
                "- $NObeyesdad$ - Nivo gojaznosti\n",
                "    - $Underweight$\n",
                "    - $Overweight$\n",
                "    - $Obesity I$\n",
                "    - $Obesity II$\n",
                "    - $Obesity III$"
            ]
        },
        {
            "cell_type": "code",
            "execution_count": null,
            "metadata": {},
            "outputs": [],
            "source": [
                "print(f\"Broj ulaza u skupu podataka: {len(df)}\")"
            ]
        },
        {
            "cell_type": "code",
            "execution_count": null,
            "metadata": {},
            "outputs": [],
            "source": [
                "print(f\"Broj ulaznih promenljivih u skupu podataka: {len(df.iloc[0])}\")"
            ]
        },
        {
            "cell_type": "markdown",
            "metadata": {},
            "source": [
                "- Ukupno imamo <span style=\"color:#03d3fc\">17 ulazne promenljive</span> i <span style=\"color:#fc036f\">1 ciljnu promenljivu</span>\n",
                "- Ukupno imamo <span style=\"color:#03d3fc\">1688 ulaza u train skupu podataka</span>\n",
                "- Koristimo 80-20 podelu za trening i test skup"
            ]
        },
        {
            "cell_type": "code",
            "execution_count": null,
            "metadata": {},
            "outputs": [],
            "source": [
                "df.info()"
            ]
        },
        {
            "cell_type": "markdown",
            "metadata": {},
            "source": [
                "- Nema nedostajućih vrednosti u skupu\n",
                "- $Gender$, $family\\_history\\_with\\_overweight$, $FAVC$, $CAEC$, $SMOKE$, $SCC$, $CALC$, $MTRANS$ i $NObeyesdad$ su object"
            ]
        },
        {
            "cell_type": "markdown",
            "metadata": {},
            "source": [
                "## Obrada atributa"
            ]
        },
        {
            "cell_type": "code",
            "execution_count": null,
            "metadata": {},
            "outputs": [],
            "source": [
                "df['Gender'] = df['Gender'].map({'Female': 0, 'Male': 1})\n",
                "df['family_history_with_overweight'] = df['family_history_with_overweight'].map({'yes': 1, 'no': 0})\n",
                "df['FAVC'] = df['FAVC'].map({'yes': 1, 'no': 0})\n",
                "df['SMOKE'] = df['SMOKE'].map({'yes': 1, 'no': 0})\n",
                "df['SCC'] = df['SCC'].map({'yes': 1, 'no': 0})"
            ]
        },
        {
            "cell_type": "code",
            "execution_count": null,
            "metadata": {},
            "outputs": [],
            "source": [
                "df = pd.get_dummies(df, columns=['CAEC'], prefix='CAEC',dtype=int)\n",
                "df = pd.get_dummies(df, columns=['CALC'], prefix='CALC',dtype=int)\n",
                "df = pd.get_dummies(df, columns=['MTRANS'], prefix='MTRANS',dtype=int)"
            ]
        },
        {
            "cell_type": "code",
            "execution_count": null,
            "metadata": {},
            "outputs": [],
            "source": [
                "label_encoder = LabelEncoder()\n",
                "\n",
                "df['NObeyesdad'] = label_encoder.fit_transform(df['NObeyesdad'])"
            ]
        },
        {
            "cell_type": "code",
            "execution_count": null,
            "metadata": {},
            "outputs": [],
            "source": [
                "df.info()"
            ]
        },
        {
            "cell_type": "code",
            "execution_count": null,
            "metadata": {},
            "outputs": [],
            "source": [
                "train, test = train_test_split(df, test_size=0.2, random_state=42)"
            ]
        },
        {
            "cell_type": "markdown",
            "metadata": {},
            "source": [
                "## Raspodele podataka"
            ]
        },
        {
            "cell_type": "code",
            "execution_count": null,
            "metadata": {},
            "outputs": [],
            "source": [
                "def visualize_attribute(train: pd.DataFrame, attribute: str) -> None:\n",
                "    plt.figure(facecolor='darkblue')\n",
                "    color = np.random.rand(3,)\n",
                "    _, axes = plt.subplots(2, 2, figsize=(12, 10))\n",
                "    \n",
                "    sns.histplot(data=train, x=attribute, kde=False, ax=axes[0, 0], color=color)\n",
                "    axes[0, 0].set_title('Histogram')\n",
                "    \n",
                "    sns.boxplot(data=train, x=attribute, ax=axes[0, 1], color=color)\n",
                "    axes[0, 1].set_title('Boxplot')\n",
                "    \n",
                "    sns.violinplot(data=train, x=attribute, ax=axes[1, 0], color=color)\n",
                "    axes[1, 0].set_title('Violin Plot')\n",
                "    \n",
                "    sns.scatterplot(data=train, x=attribute, y='NObeyesdad', ax=axes[1, 1], color=color, alpha=0.2)\n",
                "    axes[1, 1].set_title('Scatter Plot')\n",
                "    \n",
                "    plt.show()\n",
                "\n",
                "attributes = list(train.keys())\n",
                "for attribute in attributes:\n",
                "    visualize_attribute(train, attribute)"
            ]
        },
        {
            "cell_type": "markdown",
            "metadata": {},
            "source": [
                "## Normalizacija atributa"
            ]
        },
        {
            "cell_type": "code",
            "execution_count": null,
            "metadata": {},
            "outputs": [],
            "source": [
                "def transform_skewed_attributes(train, transf_map:dict, skew_threshold=1.0):\n",
                "    transformer = PowerTransformer(method='yeo-johnson')\n",
                "    train_cp = train.copy()\n",
                "    for column in train_cp.columns:\n",
                "        if train_cp[column].dtype in [np.float64, np.int64]:\n",
                "            skewness = train_cp[column].skew()\n",
                "            if abs(skewness) > skew_threshold:\n",
                "                transformer = PowerTransformer(method='yeo-johnson')\n",
                "                transformer = transformer.fit(train_cp[[column]])\n",
                "                train_cp[column] = transformer.transform(train_cp[[column]])\n",
                "                if column in transf_map.keys():\n",
                "                    transf_map[column].append(transformer)\n",
                "                else:\n",
                "                    transf_map[column] = [transformer]\n",
                "\n",
                "    return train_cp\n",
                "\n",
                "def scale(train, transf_map:dict):\n",
                "    train_cp = train.copy()\n",
                "    for column in train.columns:\n",
                "        if train_cp[column].dtype in [np.float64, np.int64]:\n",
                "            scaler = MinMaxScaler(feature_range=(0, 1))\n",
                "            scaler = scaler.fit(train_cp[[column]])\n",
                "            train_cp[column] = scaler.transform(train_cp[[column]])\n",
                "            if column in transf_map.keys():\n",
                "                    transf_map[column].append(scaler)\n",
                "            else:\n",
                "                transf_map[column] = [scaler]\n",
                "    return train_cp\n",
                "\n",
                "def apply_transf(X, transf_map:dict):\n",
                "    result = X.copy()\n",
                "    for attribute in transf_map.keys():\n",
                "        for tr in transf_map[attribute]:\n",
                "            result[attribute] = tr.transform(result[[attribute]])\n",
                "    return result"
            ]
        },
        {
            "cell_type": "markdown",
            "metadata": {},
            "source": [
                "## Vizuelizacija cluster-a"
            ]
        },
        {
            "cell_type": "code",
            "execution_count": null,
            "metadata": {},
            "outputs": [],
            "source": [
                "def visualize_clusters(data, clusterer, perplexity=30, n_iter=1000):\n",
                "    if hasattr(clusterer,'predict'):\n",
                "        labels = clusterer.predict(data)\n",
                "    else:\n",
                "        labels = clusterer.fit_predict(data)\n",
                "    \n",
                "    tsne = TSNE(n_components=2, perplexity=perplexity, n_iter=n_iter, random_state=42)\n",
                "    tsne_results = tsne.fit_transform(data)\n",
                "    \n",
                "    plt.figure(figsize=(10, 8))\n",
                "    scatter = plt.scatter(tsne_results[:, 0], tsne_results[:, 1], c=labels, cmap='viridis', alpha=0.6)\n",
                "    plt.legend(*scatter.legend_elements(), title=\"Klasteri\")\n",
                "    plt.title(f'Vizuelizacija klastera')\n",
                "    plt.xlabel('X')\n",
                "    plt.ylabel('Y')\n",
                "    plt.show()\n",
                "\n",
                "def evaluate_kmeans(data, min_clusters=5, max_clusters=15):\n",
                "    silhouette_scores = []\n",
                "    davies_bouldin_scores = []\n",
                "    cluster_range = range(min_clusters, max_clusters + 1)\n",
                "    \n",
                "    results = {}\n",
                "    for n_clusters in cluster_range:\n",
                "        kmeans = KMeans(n_clusters=n_clusters, random_state=42)\n",
                "        labels = kmeans.fit_predict(data)\n",
                "        \n",
                "        silhouette_avg = silhouette_score(data, labels)\n",
                "        davies_bouldin_avg = davies_bouldin_score(data, labels)\n",
                "        \n",
                "        silhouette_scores.append(silhouette_avg)\n",
                "        davies_bouldin_scores.append(davies_bouldin_avg)\n",
                "        \n",
                "        results[n_clusters] = [kmeans, silhouette_avg, davies_bouldin_avg]\n",
                "    \n",
                "    # Plotting the scores\n",
                "    fig, ax1 = plt.subplots()\n",
                "\n",
                "    ax1.set_xlabel('Number of clusters')\n",
                "    ax1.set_ylabel('Silhouette Score', color='tab:blue')\n",
                "    ax1.plot(cluster_range, silhouette_scores, 'o-', color='tab:blue', label='Silhouette Score')\n",
                "    ax1.tick_params(axis='y', labelcolor='tab:blue')\n",
                "    ax1.legend(loc='upper left')\n",
                "\n",
                "    ax2 = ax1.twinx()\n",
                "    ax2.set_ylabel('Davies-Bouldin Score', color='tab:orange')\n",
                "    ax2.plot(cluster_range, davies_bouldin_scores, 's-', color='tab:orange', label='Davies-Bouldin Score')\n",
                "    ax2.tick_params(axis='y', labelcolor='tab:orange')\n",
                "    ax2.legend(loc='upper right')\n",
                "\n",
                "    fig.tight_layout()\n",
                "    plt.title('KMeans Evaluation Metrics')\n",
                "    plt.show()\n",
                "\n",
                "    return results\n",
                "\n",
                "def evaluate_hierarchical_with_dendrogram(data, min_clusters=5, max_clusters=15):\n",
                "    silhouette_scores = []\n",
                "    davies_bouldin_scores = []\n",
                "    cluster_range = range(min_clusters, max_clusters + 1)\n",
                "    \n",
                "    results = {}\n",
                "    for n_clusters in cluster_range:\n",
                "        hierarchical = AgglomerativeClustering(n_clusters=n_clusters)\n",
                "        labels = hierarchical.fit_predict(data)\n",
                "        \n",
                "        silhouette_avg = silhouette_score(data, labels)\n",
                "        davies_bouldin_avg = davies_bouldin_score(data, labels)\n",
                "        \n",
                "        silhouette_scores.append(silhouette_avg)\n",
                "        davies_bouldin_scores.append(davies_bouldin_avg)\n",
                "        \n",
                "        results[n_clusters] = [hierarchical, silhouette_avg, davies_bouldin_avg]\n",
                "\n",
                "    \n",
                "    # Plotting the scores\n",
                "    fig, ax1 = plt.subplots()\n",
                "\n",
                "    ax1.set_xlabel('Number of clusters')\n",
                "    ax1.set_ylabel('Silhouette Score', color='tab:blue')\n",
                "    ax1.plot(cluster_range, silhouette_scores, 'o-', color='tab:blue', label='Silhouette Score')\n",
                "    ax1.tick_params(axis='y', labelcolor='tab:blue')\n",
                "    ax1.legend(loc='upper left')\n",
                "\n",
                "    ax2 = ax1.twinx()\n",
                "    ax2.set_ylabel('Davies-Bouldin Score', color='tab:orange')\n",
                "    ax2.plot(cluster_range, davies_bouldin_scores, 's-', color='tab:orange', label='Davies-Bouldin Score')\n",
                "    ax2.tick_params(axis='y', labelcolor='tab:orange')\n",
                "    ax2.legend(loc='upper right')\n",
                "\n",
                "    fig.tight_layout()\n",
                "    plt.title('Hierarchical Clustering Evaluation Metrics')\n",
                "    plt.show()\n",
                "    \n",
                "    # Plotting the dendrogram\n",
                "    linked = linkage(data, 'ward')\n",
                "    plt.figure(figsize=(10, 7))\n",
                "    dendrogram(linked, truncate_mode='level', p=5)\n",
                "    plt.title('Hierarchical Clustering Dendrogram')\n",
                "    plt.xlabel('Data points')\n",
                "    plt.ylabel('Distance')\n",
                "    plt.show()\n",
                "\n",
                "    return results\n",
                "\n",
                "def plot_appliance_clusters(appliances, labels, n_clusters):\n",
                "    plt.figure(figsize=(12, 6))\n",
                "    for cluster_idx in range(n_clusters):\n",
                "        if hasattr(appliances, 'loc'):\n",
                "            cluster_data = appliances.loc[labels == cluster_idx]\n",
                "        else:\n",
                "            cluster_data = appliances[labels == cluster_idx]\n",
                "            \n",
                "        std_dev = np.std(cluster_data)\n",
                "        \n",
                "        plt.hist(cluster_data, bins=20, alpha=0.5, label=f'Cluster {cluster_idx}')\n",
                "        \n",
                "        mean = np.mean(cluster_data)\n",
                "        \n",
                "        plt.axvline(mean-std_dev, color=f'C{cluster_idx}', linestyle='dashed', linewidth=1.5, label=f'Std dev: {std_dev:.2f}')\n",
                "        plt.axvline(mean+std_dev, color=f'C{cluster_idx}', linestyle='dashed', linewidth=1.5, label=f'Std dev: {std_dev:.2f}')\n",
                "    \n",
                "    plt.xlabel(f'Feature Appliances')\n",
                "    plt.title(f'Cluster Distribution of Feature Appliances')\n",
                "    plt.ylabel('Frequency')\n",
                "    plt.legend()\n",
                "    plt.grid(True)\n",
                "    plt.tight_layout()\n",
                "    plt.show()\n",
                "    \n",
                "def plot_cluster_distributions(X, clusterer, y=None):\n",
                "    if hasattr(clusterer,'predict'):\n",
                "        if y is None: labels = clusterer.predict(X)\n",
                "        n_clusters = len(clusterer.cluster_centers_)\n",
                "    else:\n",
                "        if y is None: labels = clusterer.fit_predict(X)\n",
                "        n_clusters = clusterer.n_clusters_\n",
                "    if y is not None:\n",
                "        labels=y\n",
                "        \n",
                "    num_features = X.shape[1]\n",
                "    \n",
                "    for feature_idx in range(num_features):\n",
                "        plt.figure(figsize=(12, 6))\n",
                "        for cluster_idx in range(n_clusters):\n",
                "            if hasattr(X, 'loc'):\n",
                "                cluster_data = X.loc[labels == cluster_idx, X.columns[feature_idx]]\n",
                "            else:\n",
                "                cluster_data = X[labels == cluster_idx]\n",
                "                \n",
                "            std_dev = np.std(cluster_data)\n",
                "            \n",
                "            plt.hist(cluster_data, bins=20, alpha=0.5, label=f'Cluster {cluster_idx}')\n",
                "            \n",
                "            mean = np.mean(cluster_data)\n",
                "            \n",
                "            plt.axvline(mean-std_dev, color=f'C{cluster_idx}', linestyle='dashed', linewidth=1.5, label=f'Std dev: {std_dev:.2f}')\n",
                "            plt.axvline(mean+std_dev, color=f'C{cluster_idx}', linestyle='dashed', linewidth=1.5, label=f'Std dev: {std_dev:.2f}')\n",
                "        \n",
                "        \n",
                "        plt.xlabel(f'Feature {X.columns[feature_idx]}')\n",
                "        plt.title(f'Cluster Distribution of Feature {X.columns[feature_idx]}')\n",
                "        plt.ylabel('Frequency')\n",
                "        plt.legend()\n",
                "        plt.grid(True)\n",
                "        plt.tight_layout()\n",
                "        plt.show()\n",
                "\n",
                "def plot_single_cluster_distribution(X, clusterer, cluster_idx, y=None):\n",
                "    if hasattr(clusterer,'predict'):\n",
                "        if y is None: labels = clusterer.predict(X)\n",
                "        n_clusters = len(clusterer.cluster_centers_)\n",
                "    else:\n",
                "        if y is None: labels = clusterer.fit_predict(X)\n",
                "        n_clusters = clusterer.n_clusters_\n",
                "    if y is not None:\n",
                "        labels=y\n",
                "        \n",
                "    num_features = X.shape[1]\n",
                "    \n",
                "    for feature_idx in range(num_features):\n",
                "        plt.figure(figsize=(12, 6))\n",
                "\n",
                "        if hasattr(X, 'loc'):\n",
                "            cluster_data = X.loc[labels == cluster_idx, X.columns[feature_idx]]\n",
                "        else:\n",
                "            cluster_data = X[labels == cluster_idx]\n",
                "            \n",
                "        std_dev = np.std(cluster_data)\n",
                "        \n",
                "        plt.hist(cluster_data, bins=20, alpha=0.5, label=f'Cluster {cluster_idx}')\n",
                "        \n",
                "        mean = np.mean(cluster_data)\n",
                "        \n",
                "        plt.axvline(mean-std_dev, color=f'C{cluster_idx}', linestyle='dashed', linewidth=1.5, label=f'Std dev: {std_dev:.2f}')\n",
                "        plt.axvline(mean+std_dev, color=f'C{cluster_idx}', linestyle='dashed', linewidth=1.5, label=f'Std dev: {std_dev:.2f}')\n",
                "        \n",
                "        \n",
                "        plt.xlabel(f'Feature {X.columns[feature_idx]}')\n",
                "        plt.title(f'Cluster Distribution of Feature {X.columns[feature_idx]}')\n",
                "        plt.ylabel('Frequency')\n",
                "        plt.legend()\n",
                "        plt.grid(True)\n",
                "        plt.tight_layout()\n",
                "        plt.show()\n",
                "    "
            ]
        },
        {
            "cell_type": "code",
            "execution_count": null,
            "metadata": {},
            "outputs": [],
            "source": [
                "clusters = 5"
            ]
        },
        {
            "cell_type": "code",
            "execution_count": null,
            "metadata": {},
            "outputs": [],
            "source": [
                "results = {}"
            ]
        },
        {
            "cell_type": "markdown",
            "metadata": {},
            "source": [
                "# KMeans"
            ]
        },
        {
            "cell_type": "markdown",
            "metadata": {},
            "source": [
                "## KMeans - Bez transformacija"
            ]
        },
        {
            "cell_type": "code",
            "execution_count": null,
            "metadata": {},
            "outputs": [],
            "source": [
                "results['KMeans_NoTransf'] = evaluate_kmeans(train)\n",
                "key = results['KMeans_NoTransf'][clusters][0]\n",
                "visualize_clusters(train, key, perplexity = 50)\n",
                "plot_cluster_distributions(train, key, key.predict(train))"
            ]
        },
        {
            "cell_type": "markdown",
            "metadata": {},
            "source": [
                "## KMeans - Sa skaliranjem"
            ]
        },
        {
            "cell_type": "code",
            "execution_count": null,
            "metadata": {},
            "outputs": [],
            "source": [
                "transf_map_scale = {}\n",
                "data = scale(train, transf_map_scale)\n",
                "results['KMeans_Scale'] = evaluate_kmeans(data)\n",
                "key = results['KMeans_Scale'][clusters][0]\n",
                "visualize_clusters(data, key, perplexity = 50)\n",
                "plot_cluster_distributions(train, key, key.predict(data))"
            ]
        },
        {
            "cell_type": "markdown",
            "metadata": {},
            "source": [
                "## KMeans - Sa skaliranjem i normalizacijom"
            ]
        },
        {
            "cell_type": "code",
            "execution_count": null,
            "metadata": {},
            "outputs": [],
            "source": [
                "transf_map_norm = {}\n",
                "data = scale(transform_skewed_attributes(train,transf_map_norm,0.1),transf_map_norm)\n",
                "results['KMeans_ScaleNNorm'] = evaluate_kmeans(data)\n",
                "key = results['KMeans_ScaleNNorm'][clusters][0]\n",
                "visualize_clusters(data, key, perplexity = 50)\n",
                "plot_cluster_distributions(train, key, key.predict(data))"
            ]
        },
        {
            "cell_type": "markdown",
            "metadata": {},
            "source": [
                "## KMeans - Scale+Norm+PCA"
            ]
        },
        {
            "cell_type": "code",
            "execution_count": null,
            "metadata": {},
            "outputs": [],
            "source": [
                "transf_map_pca_norm={}\n",
                "pca = PCA(n_components=0.97)\n",
                "data = scale(transform_skewed_attributes(train,transf_map_pca_norm,0.1),transf_map_pca_norm)\n",
                "transf_data = pca.fit_transform(data)\n",
                "results['KMeans_ScaleNormPCA'] = evaluate_kmeans(transf_data)\n",
                "key = results['KMeans_ScaleNormPCA'][clusters][0]\n",
                "visualize_clusters(transf_data, key, perplexity = 50)\n",
                "plot_cluster_distributions(train, key, key.predict(transf_data))"
            ]
        },
        {
            "cell_type": "markdown",
            "metadata": {},
            "source": [
                "## KMeans - Skaliranje+PCA"
            ]
        },
        {
            "cell_type": "code",
            "execution_count": null,
            "metadata": {},
            "outputs": [],
            "source": [
                "clusters = 5\n",
                "nesto = {}\n",
                "pca_scale = PCA(n_components=0.97)\n",
                "data = scale(train, nesto)\n",
                "transf_data_scale = pca_scale.fit_transform(data)\n",
                "results['KMeans_ScalePCA'] = evaluate_kmeans(transf_data_scale)\n",
                "key = results['KMeans_ScalePCA'][clusters][0]\n",
                "visualize_clusters(transf_data_scale, key, perplexity = 50)\n",
                "plot_cluster_distributions(train, key, key.predict(transf_data_scale))"
            ]
        },
        {
            "cell_type": "markdown",
            "metadata": {},
            "source": [
                "## KMeans - PCA"
            ]
        },
        {
            "cell_type": "code",
            "execution_count": null,
            "metadata": {},
            "outputs": [],
            "source": [
                "pca_notrans = PCA(n_components=0.97)\n",
                "data = pca_notrans.fit_transform(train)\n",
                "results['KMeans_PCA'] = evaluate_kmeans(data)\n",
                "key = results['KMeans_PCA'][clusters][0]\n",
                "visualize_clusters(data, key, perplexity = 50)\n",
                "plot_cluster_distributions(train, key, key.predict(data))"
            ]
        },
        {
            "cell_type": "markdown",
            "metadata": {},
            "source": [
                "# Agglomerative"
            ]
        },
        {
            "cell_type": "markdown",
            "metadata": {},
            "source": [
                "## Agglomerative clustering - Bez transformacija"
            ]
        },
        {
            "cell_type": "code",
            "execution_count": null,
            "metadata": {},
            "outputs": [],
            "source": [
                "results['Agglomerative_NoTransf'] = evaluate_hierarchical_with_dendrogram(train)\n",
                "key = results['Agglomerative_NoTransf'][clusters][0]\n",
                "visualize_clusters(train, key, perplexity = 50)\n",
                "plot_cluster_distributions(train, key, key.fit_predict(train))"
            ]
        },
        {
            "cell_type": "markdown",
            "metadata": {},
            "source": [
                "## Agglomerative - Sa skaliranjem"
            ]
        },
        {
            "cell_type": "code",
            "execution_count": null,
            "metadata": {},
            "outputs": [],
            "source": [
                "transf_map_scale = {}\n",
                "data = scale(train, transf_map_scale)\n",
                "results['Agglomerative_Scale'] = evaluate_hierarchical_with_dendrogram(data)\n",
                "key = results['Agglomerative_Scale'][clusters][0]\n",
                "visualize_clusters(data, key, perplexity = 50)\n",
                "plot_cluster_distributions(train, key, key.fit_predict(data))"
            ]
        },
        {
            "cell_type": "markdown",
            "metadata": {},
            "source": [
                "## Agglomerative - Sa skaliranjem i normalizacijom"
            ]
        },
        {
            "cell_type": "code",
            "execution_count": null,
            "metadata": {},
            "outputs": [],
            "source": [
                "transf_map_norm = {}\n",
                "data = scale(transform_skewed_attributes(train,transf_map_norm,0.1),transf_map_norm)\n",
                "results['Agglomerative_ScaleNNorm'] = evaluate_hierarchical_with_dendrogram(data)\n",
                "key = results['Agglomerative_ScaleNNorm'][clusters][0]\n",
                "visualize_clusters(data, key, perplexity = 50)\n",
                "plot_cluster_distributions(train, key, key.fit_predict(data))"
            ]
        },
        {
            "cell_type": "markdown",
            "metadata": {},
            "source": [
                "## Agglomerative - Scale+Norm+PCA"
            ]
        },
        {
            "cell_type": "code",
            "execution_count": null,
            "metadata": {},
            "outputs": [],
            "source": [
                "transf_map_pca_norm={}\n",
                "pca = PCA(n_components=0.97)\n",
                "data = scale(transform_skewed_attributes(train,transf_map_pca_norm,0.1),transf_map_pca_norm)\n",
                "transf_data = pca.fit_transform(data)\n",
                "results['Agglomerative_ScaleNormPCA'] = evaluate_hierarchical_with_dendrogram(transf_data)\n",
                "key = results['Agglomerative_ScaleNormPCA'][clusters][0]\n",
                "visualize_clusters(transf_data, key, perplexity = 50)\n",
                "plot_cluster_distributions(train, key, key.fit_predict(transf_data))"
            ]
        },
        {
            "cell_type": "markdown",
            "metadata": {},
            "source": [
                "## Agglomerative - Skaliranje+PCA"
            ]
        },
        {
            "cell_type": "code",
            "execution_count": null,
            "metadata": {},
            "outputs": [],
            "source": [
                "nesto = {}\n",
                "pca_scale = PCA(n_components=0.97)\n",
                "data = scale(train,nesto)\n",
                "transf_data_scale = pca_scale.fit_transform(data)\n",
                "results['Agglomerative_ScalePCA'] = evaluate_hierarchical_with_dendrogram(transf_data_scale)\n",
                "key = results['Agglomerative_ScalePCA'][clusters][0]\n",
                "visualize_clusters(transf_data_scale, key, perplexity = 50)\n",
                "plot_cluster_distributions(train, key, key.fit_predict(transf_data_scale))"
            ]
        },
        {
            "cell_type": "markdown",
            "metadata": {},
            "source": [
                "## Agglomerative - PCA"
            ]
        },
        {
            "cell_type": "code",
            "execution_count": null,
            "metadata": {},
            "outputs": [],
            "source": [
                "clusters = 7\n",
                "pca_notrans = PCA(n_components=0.97)\n",
                "data = pca_notrans.fit_transform(train)\n",
                "results['Agglomerative_PCA'] = evaluate_hierarchical_with_dendrogram(data)\n",
                "key = results['Agglomerative_PCA'][clusters][0]\n",
                "visualize_clusters(data, key, perplexity = 50)\n",
                "plot_cluster_distributions(train, key, key.fit_predict(data))"
            ]
        },
        {
            "cell_type": "markdown",
            "metadata": {},
            "source": [
                "## Agglomarative + NonLinear DimRed"
            ]
        },
        {
            "cell_type": "code",
            "execution_count": null,
            "metadata": {},
            "outputs": [],
            "source": [
                "clusters = 5\n",
                "nesto = {}\n",
                "iso = Isomap(n_components=3)\n",
                "data = iso.fit_transform(train)\n",
                "results['Agglomerative_IsoMap'] = evaluate_hierarchical_with_dendrogram(data)\n",
                "key = results['Agglomerative_IsoMap'][clusters][0]\n",
                "visualize_clusters(data, key, perplexity = 30)\n",
                "plot_cluster_distributions(train, key, key.fit_predict(data))"
            ]
        },
        {
            "cell_type": "markdown",
            "metadata": {},
            "source": [
                "# Rezultati"
            ]
        },
        {
            "cell_type": "code",
            "execution_count": null,
            "metadata": {},
            "outputs": [],
            "source": [
                "def get_result_df(results:dict):\n",
                "    res = {}\n",
                "    for x in results.keys():\n",
                "        res[x] = {}\n",
                "        for y in results[x]:\n",
                "            res[x][y] = results[x][y][1:]\n",
                "    return pd.DataFrame(res)\n",
                "\n",
                "def draw_results(df):\n",
                "    all_values = np.array([value for pair in df.values.flatten() for value in pair])\n",
                "    norm = plt.Normalize(all_values.min(), all_values.max())\n",
                "\n",
                "    # Create the plot\n",
                "    fig, ax = plt.subplots(figsize=(10, 5))\n",
                "\n",
                "    # Iterate through the DataFrame and plot each cell as two blocks\n",
                "    for i, row in enumerate(df.itertuples(index=False)):\n",
                "        for j, (silh_score, davis_bondie_score) in enumerate(row):\n",
                "            # Create a rectangle for silh_score\n",
                "            ax.add_patch(plt.Rectangle((j, i + 0.5), 1, 0.5, color=plt.cm.viridis(norm(silh_score))))\n",
                "            # Create a rectangle for davis_bondie_score\n",
                "            ax.add_patch(plt.Rectangle((j, i), 1, 0.5, color=plt.cm.viridis(norm(davis_bondie_score))))\n",
                "\n",
                "    # Set the limits and aspect\n",
                "    ax.set_xlim(0, len(df.columns))\n",
                "    ax.set_ylim(0, len(df))\n",
                "    ax.set_aspect('equal')\n",
                "\n",
                "    # Set the tick labels\n",
                "    ax.set_xticks(np.arange(len(df.columns)) + 0.5)\n",
                "    ax.set_yticks(np.arange(len(df)) + 0.5)\n",
                "    ax.set_xticklabels(df.columns)\n",
                "    ax.set_yticklabels(df.index)\n",
                "\n",
                "    # Display the color bar\n",
                "    sm = plt.cm.ScalarMappable(cmap=plt.cm.viridis, norm=norm)\n",
                "    sm.set_array([])\n",
                "    plt.colorbar(sm, ax=ax, orientation='vertical')\n",
                "\n",
                "    # Remove the axes for better visual effect\n",
                "    ax.invert_yaxis()  # To match the DataFrame display\n",
                "    ax.axis('off')\n",
                "\n",
                "    # Display the plot\n",
                "    plt.show()"
            ]
        },
        {
            "cell_type": "code",
            "execution_count": null,
            "metadata": {},
            "outputs": [],
            "source": [
                "df = get_result_df(results)\n",
                "draw_results(df)\n",
                "#Jos ga ofarbaj"
            ]
        },
        {
            "cell_type": "code",
            "execution_count": null,
            "metadata": {},
            "outputs": [],
            "source": [
                "df"
            ]
        },
        {
            "cell_type": "markdown",
            "metadata": {},
            "source": [
                "**Agglomerative Clustering sa primenjenim PCAom nad podacima daje najbolje rezultate**\n",
                "- Zato vršimo analizu tog rezultata"
            ]
        },
        {
            "cell_type": "markdown",
            "metadata": {},
            "source": [
                "# Interpretacija rezultata"
            ]
        },
        {
            "cell_type": "markdown",
            "metadata": {},
            "source": [
                "## Cluster 0"
            ]
        },
        {
            "cell_type": "code",
            "execution_count": null,
            "metadata": {},
            "outputs": [],
            "source": [
                "plot_single_cluster_distribution(train, key, 0, key.fit_predict(data))"
            ]
        },
        {
            "cell_type": "markdown",
            "metadata": {},
            "source": [
                "- Gender - cluster 0 ima približno jednak broj muškaraca i žena\n",
                "- Age - cluster 0 uglavnom čine mlađe osobe (18-30 godina)\n",
                "- Height - visina osoba u clusteru 0 teži nižim vrednostima (1.6-1.7m)\n",
                "- Weight - najčešće kilaže su 50-70kg\n",
                "- family_history_with_overweight - više od pola osoba u clusteru ima problema sa kilažom u porodici\n",
                "- FAVC - u clusteru 0 osobe se često hrane kaloričnom hranom\n",
                "- FCVC - u clusteru 0 osobe se relativno često hrane povrćem\n",
                "- NCP - broj obroka je najčešće 3\n",
                "- SMOKE - većina osoba u ovom clusteru ne puši\n",
                "- CH2O - unos vode je umeren\n",
                "- SCC - većina osoba u ovom clusteru ne vodi računa o unosu kalorija\n",
                "- FAF - učestalost fizičke aktivnosti je manja do umerena, retke su osobe sa čestom fizičkom aktivnošću\n",
                "- TUE - učestalost korišćenja tehnologije je manja do srednja\n",
                "- NObeyesdad - večina osoba u ovoj kategoriji je underweight-normalna (0,1) ili vrlo gojazna (5-6)\n",
                "- CAEC - većina osoba ovog clustera ponekad unose hranu između glavnih obroka\n",
                "- CALC - većina osoba ovog clustera ponekad/nikad piju alkohol\n",
                "- MTRANS - većina osoba ovog clustera koristi javni prevoz dok neki koriste i automobile, dok retko idu biciklom ili pešice\n",
                "\n",
                "**Možemo da zaključimo da cluster čine ljudi niži ljudi, kilaže od 40-70kg, zbog čega nivoa gojaznosti varira između normalne težine i gojaznosti. Ostale karakteristike su prosečne (unos alkohola, tehnologije, transporta, unos vode i drugih atributa)**"
            ]
        },
        {
            "cell_type": "markdown",
            "metadata": {},
            "source": [
                "## Cluster 1"
            ]
        },
        {
            "cell_type": "code",
            "execution_count": null,
            "metadata": {},
            "outputs": [],
            "source": [
                "plot_single_cluster_distribution(train, key, 1, key.fit_predict(data))"
            ]
        },
        {
            "cell_type": "markdown",
            "metadata": {},
            "source": [
                "- Gender - cluster 1 ima mnogo više žena nego muškaraca\n",
                "- Age - cluster 1 uglavnom čine mlađe osobe 18-25 godina\n",
                "- Height - visina osoba u clusteru 1 teži relativno visokim vrednostima 1.7-1.8m\n",
                "- Weight - kilaža u ovom clusteru je dosta velika (minimum je oko 130kg)\n",
                "- family_history_with_overweight - svi ljudi u ovoj grupi imaju problema sa kilažom u porodici\n",
                "- FAVC - u clusteru 1 sve osobe se vrlo često hrane kaloričnom hranom\n",
                "- FCVC - u clusteru 1 osobe se često hrane povrćem\n",
                "- NCP - broj obroka je uvek 3\n",
                "- SMOKE - nijedna osoba u ovom clusteru ne puši\n",
                "- CH2O - unos vode je relativno visok\n",
                "- SCC - većina osoba u ovom clusteru ne vodi računa o unosu kalorija\n",
                "- FAF - učestalost fizičke aktivnosti je relativno mala-srednja\n",
                "- TUE - učestalost korišćenja tehnologije je relativno mala\n",
                "- NObeyesdad - sve osobe su gojazne (4)\n",
                "- CAEC - većina osoba ovog clustera ponekad unose hranu između glavnih obroka\n",
                "- CALC - većina osoba ovog clustera ponekad piju alkohol\n",
                "- MTRANS - sve osoba ovog clustera koristi javni prevoz\n",
                "\n",
                "**Možemo da zaključimo da cluster čine mlade ženske osobe, relativno visoke sa velikom kilažom. Sve osobe se hrane kaloričnom hranom i imaju problema sa kilažom u porodici. Gojaznost je zastupljena u ovom clusteru**"
            ]
        },
        {
            "cell_type": "markdown",
            "metadata": {},
            "source": [
                "## Cluster 2"
            ]
        },
        {
            "cell_type": "code",
            "execution_count": null,
            "metadata": {},
            "outputs": [],
            "source": [
                "plot_single_cluster_distribution(train, key, 2, key.fit_predict(data))"
            ]
        },
        {
            "cell_type": "markdown",
            "metadata": {},
            "source": [
                "- Gender - cluster 2 ima mnogo više muškaraca nego žena\n",
                "- Age - cluster 2 uglavnom čine mladi odrasli ljudi - 20-30 godina najćešće \n",
                "- Height - visina osoba u clusteru 2 se kreće od 1.6 do 1.8m, dok visine iznad 1.85 su ređe\n",
                "- Weight - kilaža u ovom clusteru je dosta velika (minimum je oko 110kg)\n",
                "- family_history_with_overweight - svi ljudi u ovoj grupi imaju problema sa kilažom u porodici\n",
                "- FAVC - u clusteru 2 sve osobe se vrlo često hrane kaloričnom hranom\n",
                "- FCVC - u clusteru 2 osobe se često hrane povrćem\n",
                "- NCP - broj obroka je skoro uvek 3\n",
                "- SMOKE - retki su pušači u ovom clusteru\n",
                "- CH2O - unos vode je prosečan\n",
                "- SCC - velika većina osoba u ovom clusteru ne vodi računa o unosu kalorija\n",
                "- FAF - učestalost fizičke aktivnosti je relativno mala\n",
                "- TUE - učestalost korišćenja tehnologije je relativno mala\n",
                "- NObeyesdad - sve osobe su gojazne (3-4)\n",
                "- CAEC - većina osoba ovog clustera ponekad unose hranu između glavnih obroka\n",
                "- CALC - većina osoba ovog clustera ponekad piju alkohol\n",
                "- MTRANS - u ovom clusteru osobe obično koriste javni prevoz ili automobil\n",
                "\n",
                "**Možemo da zaključimo da cluster uglavnom čine odrasle muške osobe, prosečne visine sa većom kilažom. Sve osobe se hrane kaloričnom hranom i imaju problema sa kilažom u porodici. Pored toga retko se bave fizičkom aktivnošću i kreću se najčešće javnim prevozom ili automobilom. Gojaznost je zastupljena u ovom clusteru**"
            ]
        },
        {
            "cell_type": "markdown",
            "metadata": {},
            "source": [
                "## Cluster 3"
            ]
        },
        {
            "cell_type": "code",
            "execution_count": null,
            "metadata": {},
            "outputs": [],
            "source": [
                "plot_single_cluster_distribution(train, key, 3, key.fit_predict(data))"
            ]
        },
        {
            "cell_type": "markdown",
            "metadata": {},
            "source": [
                "- Gender - cluster 3 ima približno jednak broj muškaraca i žena\n",
                "- Age - cluster 3 uglavnom čine odrasli ljudi srednjih godina - 30-45 godina najćešće \n",
                "- Height - visina osoba u clusteru 3 se kreće od 1.5 do 1.85m\n",
                "- Weight - kilaža u ovom clusteru je blago viša za datu visinu - 75-95kg\n",
                "- family_history_with_overweight - većina ljudi u ovoj grupi imaju problema sa kilažom u porodici\n",
                "- FAVC - u clusteru 3 većina osobe se vrlo često hrane kaloričnom hranom\n",
                "- FCVC - u clusteru 3 osobe se prosečno hrane povrćem\n",
                "- NCP - broj obroka je najčešće 3 ali ima i onih koji samo 1 obrok unose\n",
                "- SMOKE - retki su pušači u ovom clusteru\n",
                "- CH2O - svi nivoi unosa vode su prisutni\n",
                "- SCC - velika većina osoba u ovom clusteru ne vodi računa o unosu kalorija\n",
                "- FAF - učestalost fizičke aktivnosti je relativno mala\n",
                "- TUE - učestalost korišćenja tehnologije je relativno mala\n",
                "- NObeyesdad - osobe u ovom clusteru su najčešće blago gojazne (2) ili ekstremno gojazne\n",
                "- CAEC - većina osoba ovog clustera ponekad unose hranu između glavnih obroka\n",
                "- CALC - većina osoba ovog clustera ponekad piju alkohol ali ima puno njih koji nikada ne piju\n",
                "- MTRANS - u ovom clusteru osobe obično voze automobil\n",
                "\n",
                "**Možemo da zaključimo da cluster uglavnom čine odrasle osobe srednjih godina, niske-prosečne visine sa blago većom kilažom. Sve osobe se hrane kaloričnom hranom i imaju problema sa kilažom u porodici. Pored toga retko se bave fizičkom aktivnošću i kreću se najčešće automobilom. U okviru clustera je prisutna blaga do ozbiljna gojaznost**"
            ]
        },
        {
            "cell_type": "markdown",
            "metadata": {},
            "source": [
                "## Cluster 4"
            ]
        },
        {
            "cell_type": "code",
            "execution_count": null,
            "metadata": {},
            "outputs": [],
            "source": [
                "plot_single_cluster_distribution(train, key, 4, key.fit_predict(data))"
            ]
        },
        {
            "cell_type": "markdown",
            "metadata": {},
            "source": [
                "- Gender - cluster 4 ima dosta više žena nego muškaraca\n",
                "- Age - cluster 4 uglavnom čine mladi ljudi - 16-26 godina\n",
                "- Height - visina osoba u clusteru 3 se kreće od 1.45 do 1.85 metara, pri čemu je 1.55-1.7m najčešća visina\n",
                "- Weight - kilaža u ovom clusteru je dosta mala - 40-54kg\n",
                "- family_history_with_overweight - većina ljudi u ovoj grupi nemaju problema sa kilažom u porodici\n",
                "- FAVC - u clusteru 4 većina osobe se vrlo često hrane kaloričnom hranom\n",
                "- FCVC - u clusteru 4 osobe se često hrane povrćem\n",
                "- NCP - broj obroka je najčešće 3 ali ima i onih koji samo 1 obrok unose\n",
                "- SMOKE - ekstremno su retki pušači u ovom clusteru\n",
                "- CH2O - unos vode je nizak-srednji\n",
                "- SCC - velika većina osoba u ovom clusteru ne vodi računa o unosu kalorija\n",
                "- FAF - učestalost fizičke aktivnosti je relativno mala\n",
                "- TUE - učestalost korišćenja tehnologije je relativno visoka\n",
                "- NObeyesdad - osobe u ovom clusteru su najčešće neuhranjene ili normalne težine\n",
                "- CAEC - većina osoba ovog clustera ponekad-često unose hranu između glavnih obroka\n",
                "- CALC - većina osoba ovog clustera ponekad piju alkohol ali ima puno njih koji nikada ne piju\n",
                "- MTRANS - u ovom clusteru osobe obično koriste javni prevoz\n",
                "\n",
                "**Možemo da zaključimo da cluster uglavnom čine mlade žene, niske-prosečne visine sa malom kilažom. Većina osoba se hrani kaloričnom hranom ali nemaju problema sa kilažom u porodici. Pored toga retko se bave fizičkom aktivnošću, slabo unose vodu, često koriste tehnologiju. U okviru clustera je prisutna neuhranjenost i normalna kilaža**"
            ]
        },
        {
            "cell_type": "markdown",
            "metadata": {},
            "source": [
                "## Cluster 5"
            ]
        },
        {
            "cell_type": "code",
            "execution_count": null,
            "metadata": {},
            "outputs": [],
            "source": [
                "plot_single_cluster_distribution(train, key, 5, key.fit_predict(data))"
            ]
        },
        {
            "cell_type": "markdown",
            "metadata": {},
            "source": [
                "- Gender - cluster 5 ima dosta više muškaraca nego žena\n",
                "- Age - cluster 5 uglavnom čine mladi i srednjovečni ljudi - 20-40 godina\n",
                "- Height - visina osoba u clusteru 5 se kreće od 1.55 do 1.90 metara, pri čemu je 1.6-1.8m najčešća visina\n",
                "- Weight - kilaža u ovom clusteru je visoka za dati rang visina - 95-115kg\n",
                "- family_history_with_overweight - većina ljudi u ovoj grupi imaju problema sa kilažom u porodici\n",
                "- FAVC - u clusteru 5 velika većina osoba se vrlo često hrane kaloričnom hranom\n",
                "- FCVC - u clusteru 5 osobe se dosta često hrane povrćem\n",
                "- NCP - broj obroka je najčešće 3\n",
                "- SMOKE - ekstremno su retki pušači u ovom clusteru\n",
                "- CH2O - unos vode je zastupljen u svim opsezima\n",
                "- SCC - velika većina osoba u ovom clusteru ne vodi računa o unosu kalorija\n",
                "- FAF - učestalost fizičke aktivnosti je dosta mala\n",
                "- TUE - učestalost korišćenja tehnologije je relativno visoka\n",
                "- NObeyesdad - osobe u ovom clusteru imaju veću težinu od normalne, pri čemu je ozbiljna gojaznost retka\n",
                "- CAEC - većina osoba ovog clustera ponekad unose hranu između glavnih obroka\n",
                "- CALC - većina osoba ovog clustera ponekad piju alkohol ali ima puno njih koji nikada ne piju\n",
                "- MTRANS - u ovom clusteru osobe obično koriste javni prevoz\n",
                "\n",
                "**Možemo da zaključimo da cluster uglavnom čine mladi i srednjovečni muškarci, niske-prosečne visine sa većom kilažom. Većina osoba se hrani kaloričnom hranom ali i povrćem i imaju problema sa kilažom u porodici. Pored toga retko se bave fizičkom aktivnošću, često koriste tehnologiju. U okviru clustera je prisutna blago povišena kilaža kao i blaga gojaznost.**"
            ]
        },
        {
            "cell_type": "markdown",
            "metadata": {},
            "source": [
                "## Cluster 6"
            ]
        },
        {
            "cell_type": "code",
            "execution_count": null,
            "metadata": {},
            "outputs": [],
            "source": [
                "plot_single_cluster_distribution(train, key, 6, key.fit_predict(data))"
            ]
        },
        {
            "cell_type": "markdown",
            "metadata": {},
            "source": [
                "- Gender - oba pola su zastupljena, ali muškaraca ima više\n",
                "- Age - cluster 6 uglavnom čine mladi ljudi - 18-25 godina\n",
                "- Height - visina osoba u clusteru 6 se kreće od 1.55 do 1.90 metara, pri čemu je 1.7-1.8m najčešća visina\n",
                "- Weight - kilaža u ovom clusteru nije previsoka za dati raspon visina - 75-90kg\n",
                "- family_history_with_overweight - većina ljudi u ovoj grupi imaju problema sa kilažom u porodici\n",
                "- FAVC - u clusteru 6 velika većina osoba se vrlo često hrane kaloričnom hranom ali ima i onih koji retko se hrane kaloričnom hranom\n",
                "- FCVC - u clusteru 6 osobe se prosečno često hrane povrćem\n",
                "- NCP - broj obroka je najčešće 3 ali ima i puno onih koji imaju 1 obrok dnevno\n",
                "- SMOKE - ekstremno su retki pušači u ovom clusteru\n",
                "- CH2O - unos vode je zastupljen u svim opsezima, ali je prosečan unos najčešći\n",
                "- SCC - velika većina osoba u ovom clusteru ne vodi računa o unosu kalorija\n",
                "- FAF - učestalost fizičke aktivnosti varira, ima najviše onih koji se retko bave\n",
                "- TUE - učestalost korišćenja tehnologije je relativno visoka\n",
                "- NObeyesdad - puno osoba u ovom clusteru imaju velik stepen gojaznosti ali ima i onih sa normalnom težinom\n",
                "- CAEC - većina osoba ovog clustera ponekad unose hranu između glavnih obroka\n",
                "- CALC - većina osoba ovog clustera ponekad piju alkohol ali ima puno njih koji nikada ne piju\n",
                "- MTRANS - u ovom clusteru osobe obično koriste javni prevoz ali i automobile\n",
                "\n",
                "**Možemo da zaključimo da cluster uglavnom čine mladi ljudi, najčešće muškarci, prosečne do nadprosečne visine sa normalnom kilažom. Većina osoba se hrani kaloričnom hranom, donekle i povrćem i imaju problema sa kilažom u porodici. Pored toga retko-ponekad se bave fizičkom aktivnošću, često koriste tehnologiju. U okviru clustera je prisutna normalna kilaža kao i ekstremna gojaznost.**"
            ]
        }
    ],
    "metadata": {
        "kernelspec": {
            "display_name": "Python 3",
            "language": "python",
            "name": "python3"
        },
        "language_info": {
            "codemirror_mode": {
                "name": "ipython",
                "version": 3
            },
            "file_extension": ".py",
            "mimetype": "text/x-python",
            "name": "python",
            "nbconvert_exporter": "python",
            "pygments_lexer": "ipython3",
            "version": "3.12.3"
        }
    },
    "nbformat": 4,
    "nbformat_minor": 2
}
